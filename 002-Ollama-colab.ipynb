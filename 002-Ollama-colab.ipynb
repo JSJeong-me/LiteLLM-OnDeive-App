{
  "nbformat": 4,
  "nbformat_minor": 0,
  "metadata": {
    "colab": {
      "provenance": [],
      "gpuType": "A100",
      "machine_shape": "hm",
      "authorship_tag": "ABX9TyPZTCV1HsWInOvrhBzjU4Jl",
      "include_colab_link": true
    },
    "kernelspec": {
      "name": "python3",
      "display_name": "Python 3"
    },
    "language_info": {
      "name": "python"
    },
    "accelerator": "GPU"
  },
  "cells": [
    {
      "cell_type": "markdown",
      "metadata": {
        "id": "view-in-github",
        "colab_type": "text"
      },
      "source": [
        "<a href=\"https://colab.research.google.com/github/JSJeong-me/LiteLLM-OnDeive-App/blob/main/002-Ollama-colab.ipynb\" target=\"_parent\"><img src=\"https://colab.research.google.com/assets/colab-badge.svg\" alt=\"Open In Colab\"/></a>"
      ]
    },
    {
      "cell_type": "code",
      "execution_count": null,
      "metadata": {
        "id": "X6F4fQSXp3jg"
      },
      "outputs": [],
      "source": [
        "!pip install colab-xterm #https://pypi.org/project/colab-xterm/\n",
        "%load_ext colabxterm"
      ]
    },
    {
      "cell_type": "code",
      "source": [],
      "metadata": {
        "id": "5of96y7RnKx6"
      },
      "execution_count": null,
      "outputs": []
    },
    {
      "cell_type": "markdown",
      "source": [
        "## https://github.com/ollama/ollama 를 참조 하세요!\n",
        "\n",
        "### > curl -fsSL https://ollama.com/install.sh | sh\n",
        "### > ollama serve &\n",
        "### > ollama run gemma3"
      ],
      "metadata": {
        "id": "ugEthF8SGhrG"
      }
    },
    {
      "cell_type": "code",
      "source": [],
      "metadata": {
        "id": "UStU65Mpgp6V"
      },
      "execution_count": null,
      "outputs": []
    },
    {
      "cell_type": "code",
      "source": [
        "%xterm"
      ],
      "metadata": {
        "id": "QXX-IcLbqBVm"
      },
      "execution_count": null,
      "outputs": []
    },
    {
      "cell_type": "code",
      "source": [
        "!pip install langchain langchain_community langchain-core"
      ],
      "metadata": {
        "id": "4tIYLbvyqwlg"
      },
      "execution_count": null,
      "outputs": []
    },
    {
      "cell_type": "code",
      "source": [
        "# Import Ollama module from Langchain\n",
        "from langchain_community.llms import Ollama\n",
        "\n",
        "# Initialize an instance of the Ollama model\n",
        "llm = Ollama(model=\"deepseek-r1:1.5b\") # llama3.2:1b  gemma3:1b deepseek-r1:1.5b"
      ],
      "metadata": {
        "id": "vaLYM2J_qCBB"
      },
      "execution_count": null,
      "outputs": []
    },
    {
      "cell_type": "code",
      "source": [
        "# Invoke the model to generate responses\n",
        "response = llm.invoke(\"3 곱하기 4는?\")\n",
        "print(response)"
      ],
      "metadata": {
        "id": "U0dUJ_FDkZrh"
      },
      "execution_count": null,
      "outputs": []
    },
    {
      "cell_type": "code",
      "source": [
        "\")\n",
        "print(response)"
      ],
      "metadata": {
        "id": "QEIv5N3BookF"
      },
      "execution_count": null,
      "outputs": []
    },
    {
      "cell_type": "code",
      "source": [
        "!pip install ollama"
      ],
      "metadata": {
        "id": "d1RRWWB7okko"
      },
      "execution_count": null,
      "outputs": []
    },
    {
      "cell_type": "code",
      "source": [
        "import ollama    # gemma3 llama3.2\n",
        "response = ollama.chat(model='gemma3', messages=[\n",
        "  {\n",
        "    'role': 'user',\n",
        "    'content': 'Why is the sky blue?',\n",
        "  },\n",
        "])\n",
        "print(response['message']['content'])"
      ],
      "metadata": {
        "id": "jNjOLSbbquNN"
      },
      "execution_count": null,
      "outputs": []
    }
  ]
}