{
  "cells": [
    {
      "cell_type": "markdown",
      "metadata": {
        "id": "view-in-github",
        "colab_type": "text"
      },
      "source": [
        "<a href=\"https://colab.research.google.com/github/JSJeong-me/LiteLLM-OnDeive-App/blob/main/006-Device-Deployment.ipynb\" target=\"_parent\"><img src=\"https://colab.research.google.com/assets/colab-badge.svg\" alt=\"Open In Colab\"/></a>"
      ]
    },
    {
      "cell_type": "markdown",
      "id": "49a37d56-e6f4-4c23-99e6-577ba604cf31",
      "metadata": {
        "id": "49a37d56-e6f4-4c23-99e6-577ba604cf31"
      },
      "source": [
        "# L3: Preparing for on-device deployment\n"
      ]
    },
    {
      "cell_type": "markdown",
      "id": "47a6b277-2dc7-44d4-9571-36635d3aae68",
      "metadata": {
        "id": "47a6b277-2dc7-44d4-9571-36635d3aae68"
      },
      "source": [
        "<p style=\"background-color:#fff6e4; padding:15px; border-width:3px; border-color:#f5ecda; border-style:solid; border-radius:6px\"> ⏳ <b>Note <code>(Kernel Starting)</code>:</b> This notebook takes about 30 seconds to be ready to use. You may start and watch the video while you wait.</p>\n"
      ]
    },
    {
      "cell_type": "markdown",
      "id": "1a920ffb-05b1-4550-905e-df45832621c2",
      "metadata": {
        "id": "1a920ffb-05b1-4550-905e-df45832621c2"
      },
      "source": [
        "## Capture trained model"
      ]
    },
    {
      "cell_type": "code",
      "source": [
        "!pip install qai-hub-models"
      ],
      "metadata": {
        "id": "-94AJpPHhYat"
      },
      "id": "-94AJpPHhYat",
      "execution_count": null,
      "outputs": []
    },
    {
      "cell_type": "code",
      "execution_count": 1,
      "id": "51717f2c-bd2e-4d3e-b514-c831ac646120",
      "metadata": {
        "id": "51717f2c-bd2e-4d3e-b514-c831ac646120",
        "outputId": "df43af29-9e8e-4d92-9bc8-535549c728ac",
        "colab": {
          "base_uri": "https://localhost:8080/"
        }
      },
      "outputs": [
        {
          "output_type": "stream",
          "name": "stdout",
          "text": [
            "Downloading data at https://github.com/quic/aimet-model-zoo/releases/download/torch_segmentation_ffnet/ffnet40S_dBBB_cityscapes_state_dict_quarts.pth to /root/.qaihm/models/ffnet/v1/ffnet40S/ffnet40S_dBBB_cityscapes_state_dict_quarts.pth... "
          ]
        },
        {
          "output_type": "stream",
          "name": "stderr",
          "text": [
            "100%|██████████| 55.8M/55.8M [00:00<00:00, 70.6MB/s]\n"
          ]
        },
        {
          "output_type": "stream",
          "name": "stdout",
          "text": [
            "Done\n",
            "cityscapes_segmentation requires repository https://github.com/Qualcomm-AI-research/FFNet.git . Ok to clone? [Y/n] y\n",
            "Cloning https://github.com/Qualcomm-AI-research/FFNet.git to /root/.qaihm/models/cityscapes_segmentation/v2/Qualcomm-AI-research_FFNet_git...\n",
            "Done\n",
            "Loading pretrained model state dict from /root/.qaihm/models/ffnet/v1/ffnet40S/ffnet40S_dBBB_cityscapes_state_dict_quarts.pth\n",
            "Initializing ffnnet40S_dBBB_mobile weights\n"
          ]
        }
      ],
      "source": [
        "from qai_hub_models.models.ffnet_40s import Model as FFNet_40s\n",
        "\n",
        "# Load from pre-trained weights\n",
        "ffnet_40s = FFNet_40s.from_pretrained()"
      ]
    },
    {
      "cell_type": "code",
      "execution_count": 2,
      "id": "188e2b3b-1f3b-423d-950d-6d095bf42601",
      "metadata": {
        "id": "188e2b3b-1f3b-423d-950d-6d095bf42601"
      },
      "outputs": [],
      "source": [
        "import torch\n",
        "input_shape = (1, 3, 1024, 2048)\n",
        "example_inputs = torch.rand(input_shape)"
      ]
    },
    {
      "cell_type": "code",
      "execution_count": 3,
      "id": "8d245965-93f9-4ca9-b322-b5d909c798b6",
      "metadata": {
        "id": "8d245965-93f9-4ca9-b322-b5d909c798b6"
      },
      "outputs": [],
      "source": [
        "traced_model = torch.jit.trace(ffnet_40s, example_inputs)"
      ]
    },
    {
      "cell_type": "code",
      "execution_count": null,
      "id": "d4f6c00f-a7b0-4061-b933-46b1ea05405c",
      "metadata": {
        "id": "d4f6c00f-a7b0-4061-b933-46b1ea05405c"
      },
      "outputs": [],
      "source": [
        "traced_model"
      ]
    },
    {
      "cell_type": "markdown",
      "id": "8dfd3dd5-1b7e-4438-92dd-e673c3d9fcd2",
      "metadata": {
        "id": "8dfd3dd5-1b7e-4438-92dd-e673c3d9fcd2"
      },
      "source": [
        "## Compile for device"
      ]
    },
    {
      "cell_type": "markdown",
      "id": "d8d445a7-223b-4721-986b-07abba7cdb7b",
      "metadata": {
        "id": "d8d445a7-223b-4721-986b-07abba7cdb7b"
      },
      "source": [
        "<p style=\"background-color:#fff6ff; padding:15px; border-width:3px; border-color:#efe6ef; border-style:solid; border-radius:6px\"> 💻 &nbsp; <b>Access Utils File and Helper Functions:</b> To access the files for this notebook, 1) click on the <em>\"File\"</em> option on the top menu of the notebook and then 2) click on <em>\"Open\"</em>. For more help, please see the <em>\"Appendix - Tips and Help\"</em> Lesson.</p>"
      ]
    },
    {
      "cell_type": "code",
      "source": [
        "!pip install qai-hub\n",
        "!qai-hub configure --api_token 1xxx"
      ],
      "metadata": {
        "id": "VmRTsijZiins"
      },
      "id": "VmRTsijZiins",
      "execution_count": null,
      "outputs": []
    },
    {
      "cell_type": "code",
      "source": [
        "!pip install python-dotenv"
      ],
      "metadata": {
        "id": "c3KL6Gy9jcBb",
        "outputId": "8dc4243c-c6c9-4184-a8c9-db5d233f1e2a",
        "colab": {
          "base_uri": "https://localhost:8080/"
        }
      },
      "id": "c3KL6Gy9jcBb",
      "execution_count": 13,
      "outputs": [
        {
          "output_type": "stream",
          "name": "stdout",
          "text": [
            "Collecting python-dotenv\n",
            "  Downloading python_dotenv-1.0.1-py3-none-any.whl (19 kB)\n",
            "Installing collected packages: python-dotenv\n",
            "Successfully installed python-dotenv-1.0.1\n"
          ]
        }
      ]
    },
    {
      "cell_type": "code",
      "source": [
        "import os\n",
        "from dotenv import load_dotenv, find_dotenv\n",
        "\n",
        "\n",
        "def load_env():\n",
        "    _ = load_dotenv(find_dotenv())\n",
        "\n",
        "def get_ai_hub_api_token():\n",
        "    load_env()\n",
        "    ai_hub_api_token = os.getenv(\"AI_HUB_API_KEY\")\n",
        "    return ai_hub_api_token"
      ],
      "metadata": {
        "id": "bgBLZTh-jYER"
      },
      "id": "bgBLZTh-jYER",
      "execution_count": 14,
      "outputs": []
    },
    {
      "cell_type": "code",
      "execution_count": null,
      "id": "2a69895b-ac9c-4e80-b2f7-f6205cc7a694",
      "metadata": {
        "id": "2a69895b-ac9c-4e80-b2f7-f6205cc7a694"
      },
      "outputs": [],
      "source": [
        "import qai_hub\n",
        "import qai_hub_models\n",
        "\n",
        "# from utils import get_ai_hub_api_token\n",
        "\n",
        "ai_hub_api_token = get_ai_hub_api_token()\n",
        "\n",
        "!qai-hub configure --api_token \"xxx\""
      ]
    },
    {
      "cell_type": "code",
      "execution_count": 19,
      "id": "e6b1f780-b534-488d-97cb-11b362944e35",
      "metadata": {
        "id": "e6b1f780-b534-488d-97cb-11b362944e35",
        "outputId": "c4ce5679-9f04-4a6d-f3e2-90a3f51adf56",
        "colab": {
          "base_uri": "https://localhost:8080/"
        }
      },
      "outputs": [
        {
          "output_type": "stream",
          "name": "stdout",
          "text": [
            "Google Pixel 3 (Family)\n",
            "Google Pixel 3\n",
            "Google Pixel 3a\n",
            "Google Pixel 3 XL\n",
            "Google Pixel 4\n",
            "Google Pixel 4\n",
            "Google Pixel 4a\n",
            "Google Pixel 5\n",
            "Samsung Galaxy Tab S7\n",
            "Samsung Galaxy Tab A8 (2021)\n",
            "Samsung Galaxy Note 20 (Intl)\n",
            "Samsung Galaxy S21 (Family)\n",
            "Samsung Galaxy S21\n",
            "Samsung Galaxy S21+\n",
            "Samsung Galaxy S21 Ultra\n",
            "Xiaomi Redmi Note 10 5G\n",
            "Google Pixel 3a XL\n",
            "Google Pixel 4a\n",
            "Google Pixel 5 (Family)\n",
            "Google Pixel 5\n",
            "Google Pixel 5a 5G\n",
            "Google Pixel 6\n",
            "Samsung Galaxy A53 5G\n",
            "Samsung Galaxy A73 5G\n",
            "RB3 Gen 2 (Proxy)\n",
            "QCS6490 (Proxy)\n",
            "RB5 (Proxy)\n",
            "QCS8250 (Proxy)\n",
            "QCS8550 (Proxy)\n",
            "Samsung Galaxy S21 (Family)\n",
            "Samsung Galaxy S21\n",
            "Samsung Galaxy S21 Ultra\n",
            "Samsung Galaxy S22 (Family)\n",
            "Samsung Galaxy S22 Ultra 5G\n",
            "Samsung Galaxy S22 5G\n",
            "Samsung Galaxy S22+ 5G\n",
            "Samsung Galaxy Tab S8\n",
            "Xiaomi 12 (Family)\n",
            "Xiaomi 12\n",
            "Xiaomi 12 Pro\n",
            "Google Pixel 6 (Family)\n",
            "Google Pixel 6\n",
            "Google Pixel 6a\n",
            "Google Pixel 7 (Family)\n",
            "Google Pixel 7\n",
            "Google Pixel 7 Pro\n",
            "Samsung Galaxy A14 5G\n",
            "Samsung Galaxy S22 5G\n",
            "QCS8450 (Proxy)\n",
            "XR2 Gen 2 (Proxy)\n",
            "Samsung Galaxy S23 (Family)\n",
            "SA8650 (Proxy)\n",
            "SA8775 (Proxy)\n",
            "SA8255 (Proxy)\n",
            "Samsung Galaxy S23\n",
            "Samsung Galaxy S23+\n",
            "Samsung Galaxy S23 Ultra\n",
            "Google Pixel 7\n",
            "Google Pixel 8 (Family)\n",
            "Google Pixel 8\n",
            "Google Pixel 8 Pro\n",
            "Samsung Galaxy S24 (Family)\n",
            "Samsung Galaxy S24\n",
            "Samsung Galaxy S24 Ultra\n",
            "Samsung Galaxy S24+\n",
            "Snapdragon 8cx Gen 3 CRD\n",
            "Snapdragon X Elite CRD\n"
          ]
        }
      ],
      "source": [
        "for device in qai_hub.get_devices():\n",
        "    print(device.name)"
      ]
    },
    {
      "cell_type": "markdown",
      "id": "455936c0-67f8-4f26-925c-de58bfe16363",
      "metadata": {
        "id": "455936c0-67f8-4f26-925c-de58bfe16363"
      },
      "source": [
        "<p style=\"background-color:#fff6e4; padding:15px; border-width:3px; border-color:#f5ecda; border-style:solid; border-radius:6px\"> ⏳ <b>Note:</b> To spread the load across various devices, we are selecting a random device. Feel free to change it to any other device you prefer.</p>"
      ]
    },
    {
      "cell_type": "code",
      "execution_count": 20,
      "id": "2c9f33e5-4039-4b2c-8eaa-974fc8c4fa4a",
      "metadata": {
        "id": "2c9f33e5-4039-4b2c-8eaa-974fc8c4fa4a",
        "outputId": "8a23aa4c-256d-47dc-db5e-48309bf8877a",
        "colab": {
          "base_uri": "https://localhost:8080/"
        }
      },
      "outputs": [
        {
          "output_type": "stream",
          "name": "stdout",
          "text": [
            "Samsung Galaxy Tab S8\n"
          ]
        }
      ],
      "source": [
        "devices = [\n",
        "    \"Samsung Galaxy S22 Ultra 5G\",\n",
        "    \"Samsung Galaxy S22 5G\",\n",
        "    \"Samsung Galaxy S22+ 5G\",\n",
        "    \"Samsung Galaxy Tab S8\",\n",
        "    \"Xiaomi 12\",\n",
        "    \"Xiaomi 12 Pro\",\n",
        "    \"Samsung Galaxy S22 5G\",\n",
        "    \"Samsung Galaxy S23\",\n",
        "    \"Samsung Galaxy S23+\",\n",
        "    \"Samsung Galaxy S23 Ultra\",\n",
        "    \"Samsung Galaxy S24\",\n",
        "    \"Samsung Galaxy S24 Ultra\",\n",
        "    \"Samsung Galaxy S24+\",\n",
        "]\n",
        "\n",
        "import random\n",
        "selected_device = random.choice(devices)\n",
        "print(selected_device)"
      ]
    },
    {
      "cell_type": "code",
      "execution_count": 21,
      "id": "3c77c567-383b-4032-8b34-6331fa3a7c13",
      "metadata": {
        "id": "3c77c567-383b-4032-8b34-6331fa3a7c13",
        "outputId": "a0ebf9d7-eaac-4618-82ef-9f69fdb6cc9e",
        "colab": {
          "base_uri": "https://localhost:8080/"
        }
      },
      "outputs": [
        {
          "output_type": "stream",
          "name": "stderr",
          "text": [
            "Uploading model: 100%|\u001b[34m██████████\u001b[0m| 53.6M/53.6M [00:01<00:00, 52.4MB/s]\n"
          ]
        },
        {
          "output_type": "stream",
          "name": "stdout",
          "text": [
            "Scheduled compile job (j1gllwlmg) successfully. To see the status and results:\n",
            "    https://app.aihub.qualcomm.com/jobs/j1gllwlmg/\n",
            "\n"
          ]
        }
      ],
      "source": [
        "device = qai_hub.Device(selected_device)\n",
        "\n",
        "# Compile for target device\n",
        "compile_job = qai_hub.submit_compile_job(\n",
        "    model=traced_model,                        # Traced PyTorch model\n",
        "    input_specs={\"image\": input_shape},        # Input specification\n",
        "    device=device,                             # Device\n",
        ")"
      ]
    },
    {
      "cell_type": "code",
      "execution_count": 22,
      "id": "25948044-7b8d-48f9-be1b-8c508942cd21",
      "metadata": {
        "id": "25948044-7b8d-48f9-be1b-8c508942cd21",
        "outputId": "fe3aa48f-78f8-484b-f1bf-250aa5444d42",
        "colab": {
          "base_uri": "https://localhost:8080/"
        }
      },
      "outputs": [
        {
          "output_type": "stream",
          "name": "stdout",
          "text": [
            "Waiting for compile job (j1gllwlmg) completion. Type Ctrl+C to stop waiting at any time.\n",
            "    ✅ SUCCESS                          \u0007\n"
          ]
        }
      ],
      "source": [
        "# Download and save the target model for use on-device\n",
        "target_model = compile_job.get_target_model()"
      ]
    },
    {
      "cell_type": "markdown",
      "id": "7d69562e-558c-4be7-99f7-56165ca9ded9",
      "metadata": {
        "id": "7d69562e-558c-4be7-99f7-56165ca9ded9"
      },
      "source": [
        "## Exercise: Try different runtimes"
      ]
    },
    {
      "cell_type": "code",
      "execution_count": 23,
      "id": "d6a72528-4329-4ec0-950d-f98c7380bac9",
      "metadata": {
        "id": "d6a72528-4329-4ec0-950d-f98c7380bac9",
        "outputId": "580fa7e3-46e7-4d8e-cf0a-04f2df1bd829",
        "colab": {
          "base_uri": "https://localhost:8080/"
        }
      },
      "outputs": [
        {
          "output_type": "stream",
          "name": "stderr",
          "text": [
            "Uploading model: 100%|\u001b[34m██████████\u001b[0m| 53.6M/53.6M [00:00<00:00, 57.9MB/s]\n"
          ]
        },
        {
          "output_type": "stream",
          "name": "stdout",
          "text": [
            "Scheduled compile job (jw56wowyg) successfully. To see the status and results:\n",
            "    https://app.aihub.qualcomm.com/jobs/jw56wowyg/\n",
            "\n"
          ]
        }
      ],
      "source": [
        "compile_options=\"--target_runtime tflite\"                  # Uses TensorFlow Lite\n",
        "compile_options=\"--target_runtime onnx\"                    # Uses ONNX runtime\n",
        "compile_options=\"--target_runtime qnn_lib_aarch64_android\" # Runs with Qualcomm AI Engine\n",
        "\n",
        "compile_job_expt = qai_hub.submit_compile_job(\n",
        "    model=traced_model,                        # Traced PyTorch model\n",
        "    input_specs={\"image\": input_shape},        # Input specification\n",
        "    device=device,                             # Device\n",
        "    options=compile_options,\n",
        ")"
      ]
    },
    {
      "cell_type": "markdown",
      "id": "1f855e6e-7146-4b3f-bf11-8711c4b078ed",
      "metadata": {
        "id": "1f855e6e-7146-4b3f-bf11-8711c4b078ed"
      },
      "source": [
        "Expore more compiler options <a href=https://app.aihub.qualcomm.com/docs/hub/compile_examples.html#compiling-pytorch-to-tflite> here</a>."
      ]
    },
    {
      "cell_type": "markdown",
      "id": "16217faa-ce79-47e3-ba78-0c3c1b280b45",
      "metadata": {
        "id": "16217faa-ce79-47e3-ba78-0c3c1b280b45"
      },
      "source": [
        "## On-Device Performance Profiling"
      ]
    },
    {
      "cell_type": "code",
      "execution_count": 24,
      "id": "204f5f67-1ab9-463b-b826-48324b9780a7",
      "metadata": {
        "id": "204f5f67-1ab9-463b-b826-48324b9780a7",
        "outputId": "eed589a9-2338-4f43-9901-d2aaa43d0f89",
        "colab": {
          "base_uri": "https://localhost:8080/"
        }
      },
      "outputs": [
        {
          "output_type": "stream",
          "name": "stdout",
          "text": [
            "Scheduled profiling job (j1p36o6np) successfully. To see the status and results:\n",
            "    https://app.aihub.qualcomm.com/jobs/j1p36o6np/\n",
            "\n",
            "Waiting for profile job (j1p36o6np) completion. Type Ctrl+C to stop waiting at any time.\n",
            "    ✅ SUCCESS                          \u0007\n",
            "\n",
            "------------------------------------------------------------\n",
            "Performance results on-device for Job_J1Gllwlmg_Optimized_Tflite.\n",
            "------------------------------------------------------------\n",
            "Device                          : Samsung Galaxy Tab S8 (12)\n",
            "Runtime                         : TFLITE                    \n",
            "Estimated inference time (ms)   : 41.5                      \n",
            "Estimated peak memory usage (MB): [2, 93]                   \n",
            "Total # Ops                     : 94                        \n",
            "Compute Unit(s)                 : NPU (94 ops)              \n",
            "------------------------------------------------------------\n",
            "More details: https://app.aihub.qualcomm.com/jobs/j1p36o6np/\n",
            "\n"
          ]
        }
      ],
      "source": [
        "from qai_hub_models.utils.printing import print_profile_metrics_from_job\n",
        "\n",
        "# Choose device\n",
        "device = qai_hub.Device(selected_device)\n",
        "\n",
        "# Runs a performance profile on-device\n",
        "profile_job = qai_hub.submit_profile_job(\n",
        "    model=target_model,                       # Compiled model\n",
        "    device=device,                            # Device\n",
        ")\n",
        "\n",
        "# Print summary\n",
        "profile_data = profile_job.download_profile()\n",
        "print_profile_metrics_from_job(profile_job, profile_data)"
      ]
    },
    {
      "cell_type": "markdown",
      "id": "74910fb1-0c98-4f6e-97fa-67cb247eac77",
      "metadata": {
        "id": "74910fb1-0c98-4f6e-97fa-67cb247eac77"
      },
      "source": [
        "## Exercise: Try different compute units"
      ]
    },
    {
      "cell_type": "code",
      "execution_count": 25,
      "id": "edac1287-2a85-42e6-807e-77662be565d8",
      "metadata": {
        "id": "edac1287-2a85-42e6-807e-77662be565d8",
        "outputId": "8845ea4f-83c3-4bfd-fb5f-2aba5adaf764",
        "colab": {
          "base_uri": "https://localhost:8080/"
        }
      },
      "outputs": [
        {
          "output_type": "stream",
          "name": "stdout",
          "text": [
            "Scheduled profiling job (j1pv727rp) successfully. To see the status and results:\n",
            "    https://app.aihub.qualcomm.com/jobs/j1pv727rp/\n",
            "\n"
          ]
        }
      ],
      "source": [
        "profile_options=\"--compute_unit cpu\"     # Use cpu\n",
        "profile_options=\"--compute_unit gpu\"     # Use gpu (with cpu fallback)\n",
        "profile_options=\"--compute_unit npu\"     # Use npu (with cpu fallback)\n",
        "\n",
        "# Runs a performance profile on-device\n",
        "profile_job_expt = qai_hub.submit_profile_job(\n",
        "    model=target_model,                     # Compiled model\n",
        "    device=device,                          # Device\n",
        "    options=profile_options,\n",
        ")"
      ]
    },
    {
      "cell_type": "markdown",
      "id": "59a9b6fa-4666-411f-a08c-e7fcecf8be8f",
      "metadata": {
        "id": "59a9b6fa-4666-411f-a08c-e7fcecf8be8f"
      },
      "source": [
        "## On-Device Inference"
      ]
    },
    {
      "cell_type": "code",
      "execution_count": null,
      "id": "f427aee3-b141-464a-98b3-d16961575d14",
      "metadata": {
        "id": "f427aee3-b141-464a-98b3-d16961575d14"
      },
      "outputs": [],
      "source": [
        "sample_inputs = ffnet_40s.sample_inputs()\n",
        "sample_inputs"
      ]
    },
    {
      "cell_type": "code",
      "execution_count": null,
      "id": "e8b4d2e2-2715-41bf-8e44-de3937e7a7f6",
      "metadata": {
        "id": "e8b4d2e2-2715-41bf-8e44-de3937e7a7f6"
      },
      "outputs": [],
      "source": [
        "torch_inputs = torch.Tensor(sample_inputs['image'][0])\n",
        "torch_outputs = ffnet_40s(torch_inputs)\n",
        "torch_outputs"
      ]
    },
    {
      "cell_type": "code",
      "execution_count": 28,
      "id": "19ad375b-2482-425e-a756-070fcec905df",
      "metadata": {
        "id": "19ad375b-2482-425e-a756-070fcec905df",
        "outputId": "7a270282-a7d2-41f5-b361-c4b96628dd00",
        "colab": {
          "base_uri": "https://localhost:8080/"
        }
      },
      "outputs": [
        {
          "output_type": "stream",
          "name": "stderr",
          "text": [
            "Uploading dataset: 100%|\u001b[34m██████████\u001b[0m| 21.5M/21.5M [00:00<00:00, 38.7MB/s]\n"
          ]
        },
        {
          "output_type": "stream",
          "name": "stdout",
          "text": [
            "Scheduled inference job (jlpey6yv5) successfully. To see the status and results:\n",
            "    https://app.aihub.qualcomm.com/jobs/jlpey6yv5/\n",
            "\n"
          ]
        }
      ],
      "source": [
        "inference_job = qai_hub.submit_inference_job(\n",
        "        model=target_model,          # Compiled model\n",
        "        inputs=sample_inputs,        # Sample input\n",
        "        device=device,               # Device\n",
        ")"
      ]
    },
    {
      "cell_type": "code",
      "execution_count": null,
      "id": "49ad79df-bf53-49b9-b785-3348cce74d46",
      "metadata": {
        "id": "49ad79df-bf53-49b9-b785-3348cce74d46"
      },
      "outputs": [],
      "source": [
        "ondevice_outputs = inference_job.download_output_data()\n",
        "ondevice_outputs['output_0']"
      ]
    },
    {
      "cell_type": "code",
      "execution_count": 30,
      "id": "97670114-573c-41a9-8b62-dc9caa98e642",
      "metadata": {
        "id": "97670114-573c-41a9-8b62-dc9caa98e642",
        "outputId": "4bf9ffde-20ef-4566-fff0-f50708225e67",
        "colab": {
          "base_uri": "https://localhost:8080/"
        }
      },
      "outputs": [
        {
          "output_type": "stream",
          "name": "stdout",
          "text": [
            "\n",
            "Comparing on-device vs. local-cpu inference for Job_J1Gllwlmg_Optimized_Tflite.\n",
            "+---------------+----------------------------+--------+\n",
            "| output_name   | shape                      |   psnr |\n",
            "+===============+============================+========+\n",
            "| output_0      | torch.Size([19, 128, 256]) |  66.24 |\n",
            "+---------------+----------------------------+--------+\n",
            "\n",
            "- psnr: Peak Signal-to-Noise Ratio (PSNR). >30 dB is typically considered good.\n",
            "\n",
            "More details: https://app.aihub.qualcomm.com/jobs/jlpey6yv5/\n"
          ]
        }
      ],
      "source": [
        "from qai_hub_models.utils.printing import print_inference_metrics\n",
        "print_inference_metrics(inference_job, ondevice_outputs, torch_outputs)"
      ]
    },
    {
      "cell_type": "markdown",
      "id": "9fffc80a-3562-4314-934d-832eff2d9a10",
      "metadata": {
        "id": "9fffc80a-3562-4314-934d-832eff2d9a10"
      },
      "source": [
        "## Get ready for deployment!"
      ]
    },
    {
      "cell_type": "code",
      "execution_count": 31,
      "id": "5e1ced93-f86c-4097-bc79-439926e1c6df",
      "metadata": {
        "id": "5e1ced93-f86c-4097-bc79-439926e1c6df",
        "outputId": "4c455868-053f-42d8-c22f-bc03ed1a31ec",
        "colab": {
          "base_uri": "https://localhost:8080/"
        }
      },
      "outputs": [
        {
          "output_type": "stream",
          "name": "stderr",
          "text": [
            "job_j1gllwlmg_optimized_tflite_mxqv2p10n.tflite: 100%|\u001b[34m██████████\u001b[0m| 53.1M/53.1M [00:01<00:00, 49.0MB/s]\n"
          ]
        }
      ],
      "source": [
        "target_model = compile_job.get_target_model()\n",
        "_ = target_model.download(\"FFNet_40s.tflite\")"
      ]
    },
    {
      "cell_type": "code",
      "execution_count": null,
      "id": "7402ad4f-c99a-4980-b462-a93524c55c85",
      "metadata": {
        "id": "7402ad4f-c99a-4980-b462-a93524c55c85"
      },
      "outputs": [],
      "source": []
    },
    {
      "cell_type": "code",
      "execution_count": null,
      "id": "194a5621-e8f6-47dc-b103-09c20fb428e6",
      "metadata": {
        "id": "194a5621-e8f6-47dc-b103-09c20fb428e6"
      },
      "outputs": [],
      "source": []
    },
    {
      "cell_type": "code",
      "execution_count": null,
      "id": "c18a91a8-61fc-4690-826b-72660b7b584b",
      "metadata": {
        "id": "c18a91a8-61fc-4690-826b-72660b7b584b"
      },
      "outputs": [],
      "source": []
    },
    {
      "cell_type": "code",
      "execution_count": null,
      "id": "7aa6e343-a588-4c60-bdf6-3a7857430442",
      "metadata": {
        "id": "7aa6e343-a588-4c60-bdf6-3a7857430442"
      },
      "outputs": [],
      "source": []
    },
    {
      "cell_type": "code",
      "execution_count": null,
      "id": "1cd98f15-1ced-4ab9-bc06-6e16dbc1389c",
      "metadata": {
        "id": "1cd98f15-1ced-4ab9-bc06-6e16dbc1389c"
      },
      "outputs": [],
      "source": []
    }
  ],
  "metadata": {
    "kernelspec": {
      "display_name": "Python 3",
      "name": "python3"
    },
    "language_info": {
      "codemirror_mode": {
        "name": "ipython",
        "version": 3
      },
      "file_extension": ".py",
      "mimetype": "text/x-python",
      "name": "python",
      "nbconvert_exporter": "python",
      "pygments_lexer": "ipython3",
      "version": "3.8.19"
    },
    "colab": {
      "provenance": [],
      "gpuType": "T4",
      "include_colab_link": true
    },
    "accelerator": "GPU"
  },
  "nbformat": 4,
  "nbformat_minor": 5
}