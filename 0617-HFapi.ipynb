{
  "nbformat": 4,
  "nbformat_minor": 0,
  "metadata": {
    "colab": {
      "provenance": [],
      "gpuType": "T4",
      "authorship_tag": "ABX9TyPj8g8ikUnF9MsxBmUgqY4C",
      "include_colab_link": true
    },
    "kernelspec": {
      "name": "python3",
      "display_name": "Python 3"
    },
    "language_info": {
      "name": "python"
    },
    "accelerator": "GPU"
  },
  "cells": [
    {
      "cell_type": "markdown",
      "metadata": {
        "id": "view-in-github",
        "colab_type": "text"
      },
      "source": [
        "<a href=\"https://colab.research.google.com/github/JSJeong-me/LiteLLM-OnDeive-App/blob/main/0617-HFapi.ipynb\" target=\"_parent\"><img src=\"https://colab.research.google.com/assets/colab-badge.svg\" alt=\"Open In Colab\"/></a>"
      ]
    },
    {
      "cell_type": "code",
      "source": [
        "!pip install --upgrade notebook jupyterlab ipywidgets nbformat"
      ],
      "metadata": {
        "id": "27Rw9Nl3BE87"
      },
      "execution_count": null,
      "outputs": []
    },
    {
      "cell_type": "code",
      "execution_count": null,
      "metadata": {
        "id": "0RpCnEn7-A19"
      },
      "outputs": [],
      "source": [
        "!pip install transformers datasets huggingface_hub"
      ]
    },
    {
      "cell_type": "code",
      "source": [
        "from huggingface_hub import notebook_login\n",
        "notebook_login()"
      ],
      "metadata": {
        "id": "yAMCZAbX-GSv"
      },
      "execution_count": null,
      "outputs": []
    },
    {
      "cell_type": "code",
      "source": [
        "from transformers import pipeline\n",
        "\n",
        "# 감정 분석 모델 호출\n",
        "classifier = pipeline(\"sentiment-analysis\")\n",
        "\n",
        "# 예제 문장 분석\n",
        "result = classifier(\"I love Huggingface API!\")\n",
        "print(result)"
      ],
      "metadata": {
        "id": "vYbvqYYl-NbD"
      },
      "execution_count": null,
      "outputs": []
    },
    {
      "cell_type": "code",
      "source": [
        "from transformers import AutoModelForCausalLM, AutoTokenizer\n",
        "\n",
        "# 모델 및 토크나이저 로드\n",
        "model_name = \"gpt2\"\n",
        "tokenizer = AutoTokenizer.from_pretrained(model_name)\n",
        "model = AutoModelForCausalLM.from_pretrained(model_name)\n",
        "\n",
        "# 입력 문장 준비\n",
        "input_text = \"Hello, Huggingface API is\"\n",
        "inputs = tokenizer(input_text, return_tensors=\"pt\")\n",
        "\n",
        "# 모델을 이용한 텍스트 생성\n",
        "outputs = model.generate(**inputs, max_length=50)\n",
        "generated_text = tokenizer.decode(outputs[0], skip_special_tokens=True)\n",
        "\n",
        "print(generated_text)"
      ],
      "metadata": {
        "id": "AaUmBkIX-SS9"
      },
      "execution_count": null,
      "outputs": []
    },
    {
      "cell_type": "code",
      "source": [
        "!curl -fsSL https://ollama.com/install.sh | sh"
      ],
      "metadata": {
        "id": "eALmY8oe-YTR"
      },
      "execution_count": null,
      "outputs": []
    },
    {
      "cell_type": "code",
      "source": [
        "# Llama 3.2 모델 실행\n",
        "!ollama run llama3:latest\n",
        "\n",
        "# Gemma 1B 모델 실행\n",
        "!ollama run gemma:1b\n",
        "\n",
        "# Gemma 3B 모델 실행\n",
        "!ollama run gemma:3b"
      ],
      "metadata": {
        "id": "TbetNZkY-cHy"
      },
      "execution_count": null,
      "outputs": []
    },
    {
      "cell_type": "code",
      "source": [
        "# Start the Ollama server\n",
        "# !ollama serve &"
      ],
      "metadata": {
        "id": "PhxSVGulAP2K"
      },
      "execution_count": null,
      "outputs": []
    },
    {
      "cell_type": "code",
      "source": [
        "import requests\n",
        "\n",
        "def generate_text(model, prompt):\n",
        "    url = \"http://localhost:11434/api/generate\"\n",
        "    data = {\n",
        "        \"model\": model,\n",
        "        \"prompt\": prompt,\n",
        "        \"stream\": False\n",
        "    }\n",
        "    response = requests.post(url, json=data)\n",
        "    return response.json()[\"response\"]\n",
        "\n",
        "# Llama 3.2 모델로 텍스트 생성 예시\n",
        "llama_response = generate_text(\"llama3\", \"Explain the concept of generative AI.\")\n",
        "print(\"Llama 3.2 모델 응답:\\n\", llama_response)\n",
        "\n",
        "# Gemma 1B 모델로 텍스트 생성 예시\n",
        "gemma_1b_response = generate_text(\"gemma:1b\", \"What is machine learning?\")\n",
        "print(\"Gemma 1B 모델 응답:\\n\", gemma_1b_response)\n",
        "\n",
        "# Gemma 3B 모델로 텍스트 생성 예시\n",
        "gemma_3b_response = generate_text(\"gemma:3b\", \"Describe the importance of data science.\")\n",
        "print(\"Gemma 3B 모델 응답:\\n\", gemma_3b_response)"
      ],
      "metadata": {
        "id": "NkVI9Pgb-h28"
      },
      "execution_count": null,
      "outputs": []
    }
  ]
}