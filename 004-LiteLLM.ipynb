{
  "nbformat": 4,
  "nbformat_minor": 0,
  "metadata": {
    "colab": {
      "provenance": [],
      "authorship_tag": "ABX9TyPaJpBsc9WE6jEk1+GwuA43",
      "include_colab_link": true
    },
    "kernelspec": {
      "name": "python3",
      "display_name": "Python 3"
    },
    "language_info": {
      "name": "python"
    }
  },
  "cells": [
    {
      "cell_type": "markdown",
      "metadata": {
        "id": "view-in-github",
        "colab_type": "text"
      },
      "source": [
        "<a href=\"https://colab.research.google.com/github/JSJeong-me/LiteLLM-OnDeive-App/blob/main/004-LiteLLM.ipynb\" target=\"_parent\"><img src=\"https://colab.research.google.com/assets/colab-badge.svg\" alt=\"Open In Colab\"/></a>"
      ]
    },
    {
      "cell_type": "code",
      "execution_count": null,
      "metadata": {
        "id": "c0Mj8zG59mYZ"
      },
      "outputs": [],
      "source": [
        "!pip install litellm"
      ]
    },
    {
      "cell_type": "code",
      "source": [
        "from litellm import completion\n",
        "\n",
        "response = completion(\n",
        "            model=\"ollama/llama2\",\n",
        "            messages = [{ \"content\": \"Hello, how are you?\",\n",
        "                         \"role\": \"user\"}],\n",
        "            api_base=\"http://localhost:11434\"\n",
        "            #  stream=True,\n",
        ")"
      ],
      "metadata": {
        "id": "JJklI5qH9sgZ"
      },
      "execution_count": null,
      "outputs": []
    },
    {
      "cell_type": "code",
      "source": [],
      "metadata": {
        "id": "5AsZaZDt98uA"
      },
      "execution_count": null,
      "outputs": []
    }
  ]
}